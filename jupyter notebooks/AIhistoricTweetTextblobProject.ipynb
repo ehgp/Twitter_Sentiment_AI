{
 "cells": [
  {
   "cell_type": "code",
   "execution_count": null,
   "metadata": {},
   "outputs": [],
   "source": [
    "import os\n",
    "import requests\n",
    "import json\n",
    "import nltk\n",
    "from snakebite.client import Client"
   ]
  },
  {
   "cell_type": "code",
   "execution_count": null,
   "metadata": {},
   "outputs": [],
   "source": [
    "##get data connection\n",
    "client1 = Client('localhost',19000)\n",
    "endpoint = \"https://api.twitter.com/1.1/tweets/search/fullarchive/HistoricalTweets.json\"\n",
    "headers = {\"Authorization\":\"Bearer xxx\", \"Content-Type\": \"application/json\"}"
   ]
  },
  {
   "cell_type": "code",
   "execution_count": null,
   "metadata": {},
   "outputs": [],
   "source": [
    "##query and write (Tweets prior to Cambridge Analytica [mid-March 2018])\n",
    "data = '{\"query\":\"#AI OR #ArtificialIntelligence OR #MachineLearning lang:en\", \"fromDate\": \"201703190000\", \"toDate\": \"201803190000\" , \"maxResults\":100}'\n",
    "response = requests.post(endpoint,data=data,headers=headers).json()\n",
    "file = json.dumps(response, indent = 2)\n",
    "with open('data.txt', 'w') as outfile:\n",
    "    json.dump(file, outfile)"
   ]
  },
  {
   "cell_type": "code",
   "execution_count": null,
   "metadata": {},
   "outputs": [],
   "source": [
    "##query and write (Tweets after  Cambridge Analytica [mid-March 2018-9])\n",
    "data = '{\"query\":\"#AI OR #ArtificialIntelligence OR #MachineLearning lang:en\", \"fromDate\": \"201803200000\", \"toDate\": \"201903190000\" , \"maxResults\":100}'\n",
    "response = requests.post(endpoint,data=data,headers=headers).json()\n",
    "file = json.dumps(response, indent = 2)\n",
    "with open('data2.txt', 'w') as outfile:\n",
    "    json.dump(file, outfile)"
   ]
  },
  {
   "cell_type": "code",
   "execution_count": null,
   "metadata": {},
   "outputs": [],
   "source": [
    "#textblob install, read and test\n",
    "pip install -U textblob"
   ]
  },
  {
   "cell_type": "code",
   "execution_count": 1,
   "metadata": {},
   "outputs": [],
   "source": [
    "from textblob import TextBlob"
   ]
  },
  {
   "cell_type": "code",
   "execution_count": 4,
   "metadata": {},
   "outputs": [],
   "source": [
    "testimonial = TextBlob(\"negative hate angry\")"
   ]
  },
  {
   "cell_type": "code",
   "execution_count": 5,
   "metadata": {},
   "outputs": [
    {
     "data": {
      "text/plain": [
       "Sentiment(polarity=-0.5333333333333333, subjectivity=0.7666666666666666)"
      ]
     },
     "execution_count": 5,
     "metadata": {},
     "output_type": "execute_result"
    }
   ],
   "source": [
    "#okay.all set to process data \"PrePostAITweet\" a merge of query output\n",
    "testimonial.sentiment"
   ]
  },
  {
   "cell_type": "code",
   "execution_count": 6,
   "metadata": {},
   "outputs": [],
   "source": [
    "#prospective analysis/recode packages\n",
    "import re\n",
    "import string\n",
    "import numpy as np\n",
    "import random\n",
    "import pandas as pd"
   ]
  },
  {
   "cell_type": "code",
   "execution_count": 7,
   "metadata": {},
   "outputs": [],
   "source": [
    "data=pd.read_csv (\"PrePostAITweets.csv\")"
   ]
  },
  {
   "cell_type": "code",
   "execution_count": null,
   "metadata": {},
   "outputs": [],
   "source": [
    "data.head"
   ]
  },
  {
   "cell_type": "code",
   "execution_count": null,
   "metadata": {},
   "outputs": [],
   "source": [
    "##deferred to single-line command (two down) ##not used\n",
    "pol = lambda x: TextBlob(x).sentiment.polarity\n",
    "sub = lambda x: TextBlob(x).sentiment.subjectivity"
   ]
  },
  {
   "cell_type": "code",
   "execution_count": 9,
   "metadata": {},
   "outputs": [],
   "source": [
    "#polarity and subjectivity\n",
    "data [['polarity', 'subjectivity']] = data['Tweet'].apply(lambda Tweet: pd.Series(TextBlob(Tweet).sentiment))"
   ]
  },
  {
   "cell_type": "code",
   "execution_count": null,
   "metadata": {},
   "outputs": [],
   "source": [
    "print(\"data-frame shape: \", data.shape)\n",
    "print (\"column names: \", data.columns.values)\n",
    "duplicate_rows_df = data[data.duplicated()]\n",
    "print (\"number of duplicate rows: \", duplicate_rows_df.shape)"
   ]
  },
  {
   "cell_type": "code",
   "execution_count": 10,
   "metadata": {},
   "outputs": [],
   "source": [
    "#binning based on \"Time\" in relation the whether tweet stamp was pre- or post- the critical AI event (March 2018)# \n",
    "\n",
    "tw_labels = ['pre', 'post']\n",
    "category = [-0.9,0.9,1.01]\n",
    "data['prepost_labels'] = pd.cut(data['Time'], labels=tw_labels, bins=category, include_lowest=False)"
   ]
  },
  {
   "cell_type": "code",
   "execution_count": 12,
   "metadata": {},
   "outputs": [
    {
     "data": {
      "text/html": [
       "<div>\n",
       "<style scoped>\n",
       "    .dataframe tbody tr th:only-of-type {\n",
       "        vertical-align: middle;\n",
       "    }\n",
       "\n",
       "    .dataframe tbody tr th {\n",
       "        vertical-align: top;\n",
       "    }\n",
       "\n",
       "    .dataframe thead th {\n",
       "        text-align: right;\n",
       "    }\n",
       "</style>\n",
       "<table border=\"1\" class=\"dataframe\">\n",
       "  <thead>\n",
       "    <tr style=\"text-align: right;\">\n",
       "      <th></th>\n",
       "      <th>Tweet</th>\n",
       "      <th>Time</th>\n",
       "      <th>polarity</th>\n",
       "      <th>subjectivity</th>\n",
       "      <th>prepost_labels</th>\n",
       "    </tr>\n",
       "  </thead>\n",
       "  <tbody>\n",
       "    <tr>\n",
       "      <th>1</th>\n",
       "      <td>google + udacity introduced a free course des...</td>\n",
       "      <td>1</td>\n",
       "      <td>0.40</td>\n",
       "      <td>0.800000</td>\n",
       "      <td>post</td>\n",
       "    </tr>\n",
       "    <tr>\n",
       "      <th>3</th>\n",
       "      <td>phenomenal fintech in  insights by kpmg</td>\n",
       "      <td>1</td>\n",
       "      <td>0.50</td>\n",
       "      <td>0.500000</td>\n",
       "      <td>post</td>\n",
       "    </tr>\n",
       "    <tr>\n",
       "      <th>9</th>\n",
       "      <td>a randomized trial of deep learning ai shows t...</td>\n",
       "      <td>1</td>\n",
       "      <td>0.30</td>\n",
       "      <td>0.511111</td>\n",
       "      <td>post</td>\n",
       "    </tr>\n",
       "    <tr>\n",
       "      <th>13</th>\n",
       "      <td>ammut plans to increase its token value by buy...</td>\n",
       "      <td>1</td>\n",
       "      <td>0.25</td>\n",
       "      <td>0.250000</td>\n",
       "      <td>post</td>\n",
       "    </tr>\n",
       "    <tr>\n",
       "      <th>14</th>\n",
       "      <td>announcing our  most popular blockchain speakers</td>\n",
       "      <td>1</td>\n",
       "      <td>0.55</td>\n",
       "      <td>0.700000</td>\n",
       "      <td>post</td>\n",
       "    </tr>\n",
       "  </tbody>\n",
       "</table>\n",
       "</div>"
      ],
      "text/plain": [
       "                                                Tweet  Time  polarity  \\\n",
       "1    google + udacity introduced a free course des...     1      0.40   \n",
       "3            phenomenal fintech in  insights by kpmg      1      0.50   \n",
       "9   a randomized trial of deep learning ai shows t...     1      0.30   \n",
       "13  ammut plans to increase its token value by buy...     1      0.25   \n",
       "14  announcing our  most popular blockchain speakers      1      0.55   \n",
       "\n",
       "    subjectivity prepost_labels  \n",
       "1       0.800000           post  \n",
       "3       0.500000           post  \n",
       "9       0.511111           post  \n",
       "13      0.250000           post  \n",
       "14      0.700000           post  "
      ]
     },
     "execution_count": 12,
     "metadata": {},
     "output_type": "execute_result"
    }
   ],
   "source": [
    "#lots of 0 values. pull out invariant values\n",
    "data[data['polarity'] > 0.1].head()"
   ]
  },
  {
   "cell_type": "code",
   "execution_count": 13,
   "metadata": {},
   "outputs": [],
   "source": [
    "criteria= data['polarity'] >0"
   ]
  },
  {
   "cell_type": "code",
   "execution_count": 14,
   "metadata": {},
   "outputs": [],
   "source": [
    "#write datacrit, limited to non-zero polarity scores\n",
    "data[criteria].to_csv (r'datacrit.csv', index = None, header=True)"
   ]
  },
  {
   "cell_type": "code",
   "execution_count": 25,
   "metadata": {},
   "outputs": [],
   "source": [
    "#some manual edits in excel (removing proper names, gibberish, and posts with minor content variation)\n",
    "df=pd.read_csv (\"datacrit1.csv\")"
   ]
  },
  {
   "cell_type": "code",
   "execution_count": 26,
   "metadata": {},
   "outputs": [
    {
     "data": {
      "text/html": [
       "<div>\n",
       "<style scoped>\n",
       "    .dataframe tbody tr th:only-of-type {\n",
       "        vertical-align: middle;\n",
       "    }\n",
       "\n",
       "    .dataframe tbody tr th {\n",
       "        vertical-align: top;\n",
       "    }\n",
       "\n",
       "    .dataframe thead th {\n",
       "        text-align: right;\n",
       "    }\n",
       "</style>\n",
       "<table border=\"1\" class=\"dataframe\">\n",
       "  <thead>\n",
       "    <tr style=\"text-align: right;\">\n",
       "      <th></th>\n",
       "      <th>Tweet</th>\n",
       "      <th>Time</th>\n",
       "      <th>polarity</th>\n",
       "      <th>subjectivity</th>\n",
       "      <th>prepost_labels</th>\n",
       "    </tr>\n",
       "  </thead>\n",
       "  <tbody>\n",
       "    <tr>\n",
       "      <th>0</th>\n",
       "      <td>released at gtc tensor   now offers suppo on a...</td>\n",
       "      <td>1</td>\n",
       "      <td>0.118182</td>\n",
       "      <td>0.227273</td>\n",
       "      <td>post</td>\n",
       "    </tr>\n",
       "    <tr>\n",
       "      <th>1</th>\n",
       "      <td>computer kidney could provide safer tests for ...</td>\n",
       "      <td>1</td>\n",
       "      <td>0.136364</td>\n",
       "      <td>0.454545</td>\n",
       "      <td>post</td>\n",
       "    </tr>\n",
       "    <tr>\n",
       "      <th>2</th>\n",
       "      <td>embracing the new technological frontier stas ...</td>\n",
       "      <td>1</td>\n",
       "      <td>0.136364</td>\n",
       "      <td>0.454545</td>\n",
       "      <td>post</td>\n",
       "    </tr>\n",
       "    <tr>\n",
       "      <th>3</th>\n",
       "      <td>even with all the new technology like machinel...</td>\n",
       "      <td>1</td>\n",
       "      <td>0.136364</td>\n",
       "      <td>0.454545</td>\n",
       "      <td>post</td>\n",
       "    </tr>\n",
       "    <tr>\n",
       "      <th>4</th>\n",
       "      <td>bill gates wants stanford university to teach ...</td>\n",
       "      <td>1</td>\n",
       "      <td>0.200000</td>\n",
       "      <td>0.100000</td>\n",
       "      <td>post</td>\n",
       "    </tr>\n",
       "  </tbody>\n",
       "</table>\n",
       "</div>"
      ],
      "text/plain": [
       "                                               Tweet  Time  polarity  \\\n",
       "0  released at gtc tensor   now offers suppo on a...     1  0.118182   \n",
       "1  computer kidney could provide safer tests for ...     1  0.136364   \n",
       "2  embracing the new technological frontier stas ...     1  0.136364   \n",
       "3  even with all the new technology like machinel...     1  0.136364   \n",
       "4  bill gates wants stanford university to teach ...     1  0.200000   \n",
       "\n",
       "   subjectivity prepost_labels  \n",
       "0      0.227273           post  \n",
       "1      0.454545           post  \n",
       "2      0.454545           post  \n",
       "3      0.454545           post  \n",
       "4      0.100000           post  "
      ]
     },
     "execution_count": 26,
     "metadata": {},
     "output_type": "execute_result"
    }
   ],
   "source": [
    "df.head ()"
   ]
  },
  {
   "cell_type": "code",
   "execution_count": 27,
   "metadata": {
    "scrolled": false
   },
   "outputs": [
    {
     "data": {
      "text/html": [
       "<div>\n",
       "<style scoped>\n",
       "    .dataframe tbody tr th:only-of-type {\n",
       "        vertical-align: middle;\n",
       "    }\n",
       "\n",
       "    .dataframe tbody tr th {\n",
       "        vertical-align: top;\n",
       "    }\n",
       "\n",
       "    .dataframe thead th {\n",
       "        text-align: right;\n",
       "    }\n",
       "</style>\n",
       "<table border=\"1\" class=\"dataframe\">\n",
       "  <thead>\n",
       "    <tr style=\"text-align: right;\">\n",
       "      <th></th>\n",
       "      <th>polarity</th>\n",
       "      <th>subjectivity</th>\n",
       "    </tr>\n",
       "    <tr>\n",
       "      <th>Time</th>\n",
       "      <th></th>\n",
       "      <th></th>\n",
       "    </tr>\n",
       "  </thead>\n",
       "  <tbody>\n",
       "    <tr>\n",
       "      <th>0</th>\n",
       "      <td>0.433933</td>\n",
       "      <td>0.529499</td>\n",
       "    </tr>\n",
       "    <tr>\n",
       "      <th>1</th>\n",
       "      <td>0.312626</td>\n",
       "      <td>0.426501</td>\n",
       "    </tr>\n",
       "  </tbody>\n",
       "</table>\n",
       "</div>"
      ],
      "text/plain": [
       "      polarity  subjectivity\n",
       "Time                        \n",
       "0     0.433933      0.529499\n",
       "1     0.312626      0.426501"
      ]
     },
     "execution_count": 27,
     "metadata": {},
     "output_type": "execute_result"
    }
   ],
   "source": [
    "##means by binning-categorical #difference of means testing done in SPSS totesting diff distribution assumptions. Both sig \n",
    "#equal variance t = 2.20 exact p = .031 (marginally sig); unequal var = 2.52 exact p= .016 (a little less marginal))\n",
    "df.groupby('Time').mean () "
   ]
  },
  {
   "cell_type": "code",
   "execution_count": 33,
   "metadata": {},
   "outputs": [],
   "source": [
    "#matplotlib column and line charts by binned (events)-dependencies\n",
    "import matplotlib\n",
    "import matplotlib.pyplot as plt\n",
    "import seaborn; seaborn.set() "
   ]
  },
  {
   "cell_type": "code",
   "execution_count": 28,
   "metadata": {},
   "outputs": [],
   "source": [
    "#using a dict.-like input \"data2\" for plots\n",
    "data2 =pd.DataFrame({\"TIME\" : [\"PRE\",\"POST\"], \n",
    "                      'AveragePolarity' : [.434,.313]})"
   ]
  },
  {
   "cell_type": "code",
   "execution_count": 31,
   "metadata": {},
   "outputs": [],
   "source": [
    "data4 =pd.DataFrame({\"TIME\" : [\"PRE\",\"POST\"], \n",
    "                      'AverageSubjectivity' : [.529,.426]})"
   ]
  },
  {
   "cell_type": "code",
   "execution_count": 37,
   "metadata": {},
   "outputs": [
    {
     "data": {
      "image/png": "[encoded data removed]",
      "text/plain": [
       "<Figure size 432x288 with 1 Axes>"
      ]
     },
     "metadata": {},
     "output_type": "display_data"
    }
   ],
   "source": [
    "data4.plot(kind='bar', legend=False, x='TIME',y='AverageSubjectivity', color='black', linewidth=0)\n",
    "plt.xlabel('Timing of Tweets in relation to AI event', fontsize=14)\n",
    "plt.ylabel('<-- Objective -------- Subjective -->', fontsize=14)\n",
    "plt.setp(plt.gca().get_yticklabels(), fontsize=12)\n",
    "plt.setp(plt.gca().get_xticklabels(), rotation=80, fontsize=12)\n",
    "plt.suptitle('Subjectivity values before and after AI Event (dif. of means p<.05)', color='red')\n",
    "plt.show()"
   ]
  },
  {
   "cell_type": "code",
   "execution_count": 36,
   "metadata": {},
   "outputs": [
    {
     "data": {
      "image/png": "[encoded data removed]",
      "text/plain": [
       "<Figure size 432x288 with 1 Axes>"
      ]
     },
     "metadata": {},
     "output_type": "display_data"
    }
   ],
   "source": [
    "data2.plot(kind='bar', legend=False, x='TIME',y='AveragePolarity', color='black', linewidth=0)\n",
    "plt.xlabel('Timing of Tweets in relation to AI event', fontsize=14)\n",
    "plt.ylabel('<-- Negative -------- Positive -->', fontsize=14)\n",
    "plt.setp(plt.gca().get_yticklabels(), fontsize=12)\n",
    "plt.setp(plt.gca().get_xticklabels(), rotation=80, fontsize=12)\n",
    "plt.suptitle('Polarity values before and after AI Event (dif. of means p<.05)', color='red')\n",
    "plt.show()"
   ]
  }
 ],
 "metadata": {
  "kernelspec": {
   "display_name": "Python 3",
   "language": "python",
   "name": "python3"
  },
  "language_info": {
   "codemirror_mode": {
    "name": "ipython",
    "version": 3
   },
   "file_extension": ".py",
   "mimetype": "text/x-python",
   "name": "python",
   "nbconvert_exporter": "python",
   "pygments_lexer": "ipython3",
   "version": "3.7.6"
  }
 },
 "nbformat": 4,
 "nbformat_minor": 2
}
