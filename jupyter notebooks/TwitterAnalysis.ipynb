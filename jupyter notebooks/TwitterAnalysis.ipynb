{
 "cells": [
  {
   "cell_type": "code",
   "execution_count": 7,
   "metadata": {},
   "outputs": [
    {
     "name": "stdout",
     "output_type": "stream",
     "text": [
      "                Tweet_ID                                         Tweet_Text  \\\n",
      "0    1248707651552399361   teamalana ye busy short weeks  ai  retailtech...   \n",
      "1    1248707737829232646  selfdrivingcars via nodexl https   co ooy drwf...   \n",
      "2    1248708637947760643   droit ia   google created innovative  ai outp...   \n",
      "3    1248707837716574211   drmattcrowson  epidemic modeling  covid    mo...   \n",
      "4    1248708701021708288  introductory material machine learning isn gea...   \n",
      "..                   ...                                                ...   \n",
      "956  1248723853402144768  euclidean distance nearest neighbours images h...   \n",
      "957  1248717694477774850  reducing delays wireless networks  artificiali...   \n",
      "958  1248709828194770959   haroldsinnott   drones detect fevers coughing...   \n",
      "959  1248711522462896128   dizdar     check ai powered  appsec tool  neu...   \n",
      "960  1248742395400925187   pawlowskimario   wheelchair climb stairs simp...   \n",
      "\n",
      "    Pos_Score Neg_Score     Score  \n",
      "0    0.000000  0.000000  negative  \n",
      "1    0.000000  0.000000  negative  \n",
      "2    0.040000  0.080000  negative  \n",
      "3    0.086957  0.043478  positive  \n",
      "4    0.000000  0.000000  negative  \n",
      "..        ...       ...       ...  \n",
      "956  0.000000  0.000000  negative  \n",
      "957  0.000000  0.052632  negative  \n",
      "958  0.100000  0.000000  positive  \n",
      "959  0.000000  0.000000  negative  \n",
      "960  0.000000  0.045455  negative  \n",
      "\n",
      "[4050 rows x 5 columns]\n"
     ]
    }
   ],
   "source": [
    "#pip install snakebite-py3\n",
    "from snakebite.client import Client\n",
    "import pandas as pd\n",
    "#hadoop connection\n",
    "client1 = Client('localhost',19000)\n",
    "c2 = client1.stat(['/2.csv'])['length']\n",
    "c3 = client1.stat(['/3.csv'])['length']\n",
    "c4 = client1.stat(['/4.csv'])['length']\n",
    "c5 = client1.stat(['/5.csv'])['length']\n",
    "file2 = [i.split(',') for x in client1.tail('/2.csv', tail_length= 134217728) for i in x.decode(\"utf-8\").split('\\n')]\n",
    "df2 = pd.DataFrame(file2)\n",
    "df2 = df2[lambda x: x.columns[0:5]]\n",
    "df2 = df2[:-1]\n",
    "df2 = df2.rename(columns ={0:\"Tweet_ID\", 1:\"Tweet_Text\",2:\"Pos_Score\",3:\"Neg_Score\",4:\"Score\"})\n",
    "file3 = [i.split(',') for x in client1.tail('/3.csv', tail_length= 134217728) for i in x.decode(\"utf-8\").split('\\n')]\n",
    "df3 = pd.DataFrame(file3)\n",
    "df3 = df3[lambda x: x.columns[0:5]]\n",
    "df3 = df3[:-1]\n",
    "df3 = df3.rename(columns ={0:\"Tweet_ID\", 1:\"Tweet_Text\",2:\"Pos_Score\",3:\"Neg_Score\",4:\"Score\"})\n",
    "file4 = [i.split(',') for x in client1.tail('/4.csv', tail_length= 134217728) for i in x.decode(\"utf-8\").split('\\n')]\n",
    "df4 = pd.DataFrame(file4)\n",
    "df4 = df4[lambda x: x.columns[0:5]]\n",
    "df4 = df4[:-1]\n",
    "df4 = df4.rename(columns ={0:\"Tweet_ID\", 1:\"Tweet_Text\",2:\"Pos_Score\",3:\"Neg_Score\",4:\"Score\"})\n",
    "file5 = [i.split(',') for x in client1.tail('/5.csv', tail_length= 134217728) for i in x.decode(\"utf-8\").split('\\n')]\n",
    "df5 = pd.DataFrame(file5)\n",
    "df5 = df5[lambda x: x.columns[0:5]]\n",
    "df5 = df5[:-1]\n",
    "df5 = df5.rename(columns ={0:\"Tweet_ID\", 1:\"Tweet_Text\",2:\"Pos_Score\",3:\"Neg_Score\",4:\"Score\"})\n",
    "df = df2\n",
    "df = df.append(df3)\n",
    "df = df.append(df4)\n",
    "df = df.append(df5)\n",
    "print(df)"
   ]
  },
  {
   "cell_type": "code",
   "execution_count": null,
   "metadata": {},
   "outputs": [],
   "source": []
  }
 ],
 "metadata": {
  "kernelspec": {
   "display_name": "Python 3",
   "language": "python",
   "name": "python3"
  },
  "language_info": {
   "codemirror_mode": {
    "name": "ipython",
    "version": 3
   },
   "file_extension": ".py",
   "mimetype": "text/x-python",
   "name": "python",
   "nbconvert_exporter": "python",
   "pygments_lexer": "ipython3",
   "version": "3.7.6"
  }
 },
 "nbformat": 4,
 "nbformat_minor": 4
}
